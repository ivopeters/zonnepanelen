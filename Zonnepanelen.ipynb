{
 "cells": [
  {
   "cell_type": "markdown",
   "metadata": {},
   "source": [
    "# Zonnepanelen"
   ]
  },
  {
   "cell_type": "markdown",
   "metadata": {},
   "source": [
    "Geschreven door Ivo Peters (ivo.r.peters at gmail.com)\n",
    "24 december 2017\n",
    "\n",
    "Veel informatie en methodes om zonnestanden uit te rekenen heb ik van deze website:\n",
    "http://www.pveducation.org/\n"
   ]
  },
  {
   "cell_type": "code",
   "execution_count": 63,
   "metadata": {},
   "outputs": [],
   "source": [
    "# importeer numerieke bibliotheek\n",
    "import numpy as np\n",
    "# importeer grafische bibliotheek\n",
    "import matplotlib.pyplot as plt"
   ]
  },
  {
   "cell_type": "markdown",
   "metadata": {},
   "source": [
    "## Invoeren van gegevens"
   ]
  },
  {
   "cell_type": "markdown",
   "metadata": {},
   "source": [
    "### Gegevens over de zonnepanelen en plaatsing\n",
    "De in te voeren gegevens zijn:\n",
    " - Efficientie (\"eta\"). Voobeeld: eta = 0.2 betekent 20% efficientie\n",
    " - Oppervlak per paneel in vierkante meters\n",
    " - Aantal panelen\n",
    " - Vertikale hoek in graden (\"beta_graden\"), beta_graden = 0 betekent dat de panelen plat op de grond liggen, beta_graden = 90 betekent  dat de panelen vertikaal staan\n",
    " - Horizontale hoek in graden (\"Psi_graden\"), voorbeelden:\n",
    "     Psi_graden = 90 -> panelen zijn naar het Oosten gericht\n",
    "     Psi_graden = 180 -> panelen zijn naar het Zuiden gericht\n",
    "     Psi_graden = 270 -> panelen zijn naar het Westen gericht"
   ]
  },
  {
   "cell_type": "code",
   "execution_count": 64,
   "metadata": {},
   "outputs": [],
   "source": [
    "eta = 0.18 # efficientie\n",
    "oppervlakte_per_paneel = 1.7\n",
    "aantal_panelen = 12\n",
    "beta_graden = 45.0\n",
    "Psi_graden = 180.0"
   ]
  },
  {
   "cell_type": "markdown",
   "metadata": {},
   "source": [
    "### Gegevens over de locatie\n",
    "De in te voeren gegevens zijn:\n",
    " - Hoogtegraad (Doetinchem = 51.96)\n",
    " - Breedtegraad (Doetinchem = 6.29)\n",
    "Tip: om de hoogte- en breedtegraad van een willekeurige plaats te vinden, klik met de rechtemuisknop op een plek in google maps en klik dan op \"What's here\" of de Nederlandse vertaling daarvan."
   ]
  },
  {
   "cell_type": "code",
   "execution_count": 65,
   "metadata": {},
   "outputs": [],
   "source": [
    "breedtegraad = 51.9\n",
    "lengtegraad = 6.29"
   ]
  },
  {
   "cell_type": "markdown",
   "metadata": {},
   "source": [
    "### Dagnummer om uit te rekenen\n",
    "Dagnummers (\"dag\") lopen van dag = 1 op 1 januari tot dag = 365 op 31 december.\n",
    "\n",
    "Een paar referentiepunten:\n",
    " - 1:   1 januari\n",
    " - 32:  1 februari\n",
    " - 60:  1 maart\n",
    " - 91:  1 april\n",
    " - 121: 1 mei\n",
    " - 152: 1 juni\n",
    " - 172: 21 juni (langste dag)\n",
    " - 182: 1 juli\n",
    " - 213: 1 augustus\n",
    " - 244: 1 september\n",
    " - 274: 1 oktober\n",
    " - 305: 1 november\n",
    " - 335: 1 december\n",
    " - 355: 21 december (kortste dag)"
   ]
  },
  {
   "cell_type": "code",
   "execution_count": 66,
   "metadata": {},
   "outputs": [],
   "source": [
    "dag = 311"
   ]
  },
  {
   "cell_type": "markdown",
   "metadata": {},
   "source": [
    "## Berekeningen\n",
    "Vanaf hier alleen nog maar berekeningen, hieronder hoeven dus geen gegevens meer veranderd te worden.\n",
    "\n",
    "### Omrekenen naar radialen\n",
    "Alle ingegeven hoeken in graden omzetten naar hoeken in radialen:"
   ]
  },
  {
   "cell_type": "code",
   "execution_count": 67,
   "metadata": {},
   "outputs": [],
   "source": [
    "beta = beta_graden / 180.0 * np.pi\n",
    "Psi = Psi_graden / 180.0 * np.pi\n",
    "phi = breedtegraad / 180.0 * np.pi"
   ]
  },
  {
   "cell_type": "markdown",
   "metadata": {},
   "source": [
    "### Declinatiehoek\n",
    "De hoek van de aarde ten opzichte van de zon (de oorzaak van de seizoenen op aarde) wisselt tussen de -23.45 tot +23.45 graden."
   ]
  },
  {
   "cell_type": "code",
   "execution_count": 68,
   "metadata": {},
   "outputs": [],
   "source": [
    "delta_deg = -23.45 * np.cos(2.0*np.pi/365.0*(dag+10.0))\n",
    "# omrekenen naar radialen\n",
    "delta = delta_deg / 180.0 * np.pi"
   ]
  },
  {
   "cell_type": "markdown",
   "metadata": {},
   "source": [
    "### Array voor de locale zonnetijd\n",
    "Locale zonnetijd (\"LST\", voor local solar time) is zo gedefinieerd dat de zon altijd om 12:00 uur op het hoogste punt staat. Tijden zijn in uren opgegeven. Bijvoorbeeld, LST = 6 betekent 6 uur 's ochtends, en LST = 13.5 betekent half twee 's middags in zonnetijd."
   ]
  },
  {
   "cell_type": "code",
   "execution_count": 69,
   "metadata": {},
   "outputs": [],
   "source": [
    "LST = np.linspace(0, 24, 100)"
   ]
  },
  {
   "cell_type": "markdown",
   "metadata": {},
   "source": [
    "### Uurhoek (hourly angle, HRA)\n",
    "Voor het gemak in de berekeningen, de hoek die afhankelijk is van het uur van de dag"
   ]
  },
  {
   "cell_type": "code",
   "execution_count": 70,
   "metadata": {},
   "outputs": [],
   "source": [
    "HRA = (15.0*(LST-12.0)) / 180.0 * np.pi"
   ]
  },
  {
   "cell_type": "markdown",
   "metadata": {},
   "source": [
    "### Hoek van de zon 1: alpha\n",
    "Dit is de hoek van de zon boven de horizon. Dit is afhankelijk van de declinatiehoek, de breedtegraad, en het tijdstip (via de uurhoek HRA):"
   ]
  },
  {
   "cell_type": "code",
   "execution_count": 71,
   "metadata": {},
   "outputs": [],
   "source": [
    "alpha = np.arcsin(np.sin(delta)*np.sin(phi) + np.cos(delta)*np.cos(phi)*np.cos(HRA))\n",
    "# zodra de zon onder de horizon is zetten we de hoek op nul:\n",
    "alpha[alpha<0] = 0\n",
    "# omrekenen naar graden:\n",
    "alpha_deg = alpha/np.pi*180.0"
   ]
  },
  {
   "cell_type": "markdown",
   "metadata": {},
   "source": [
    "### Hoek van de zon 2: theta\n",
    "Dit is de windrichting van waaruit de zon schijnt. Gedefinieerd als:\n",
    "90 graden is Oost, 180 graden is Zuid, 270 graden is West. Deze hoek is ook afhankelijk van de declinatiehoek, de breedtegraad, en het tijdstip (via de uurhoek HRA):"
   ]
  },
  {
   "cell_type": "code",
   "execution_count": 72,
   "metadata": {},
   "outputs": [],
   "source": [
    "theta = np.arccos((np.sin(delta)*np.cos(phi) - np.cos(delta)*np.sin(phi)*np.cos(HRA))/np.cos(alpha))\n",
    "# correctie voor namiddagzon\n",
    "theta[LST>12] = 2*np.pi-theta[LST>12]\n",
    "# omrekenen naar graden\n",
    "theta_deg = theta/np.pi*180.0"
   ]
  },
  {
   "cell_type": "markdown",
   "metadata": {},
   "source": [
    "### Absorptie door de atmosfeer\n",
    "Hoe lager de zon staat, hoe meer atmosfeer er tussen de zon en het aardoppervlak zit. Dit vermindert de intensiteit van de zon. We rekenen eerst de hoeveelheid atmosfeer uit, en passen vervolgens een empirische formule toe om de intensiteit van de zon uit te rekenen:"
   ]
  },
  {
   "cell_type": "code",
   "execution_count": 73,
   "metadata": {},
   "outputs": [],
   "source": [
    "# Genormalizeerde hoeveelheid atmosfeer\n",
    "AM = 1.0 / np.cos(np.pi/2.0-alpha)\n",
    "# Intensiteit van direct zonlicht (in W/m^2)\n",
    "I_D = 1353*0.7**(AM**0.678)"
   ]
  },
  {
   "cell_type": "markdown",
   "metadata": {},
   "source": [
    "### Vermogen van het zonnepaneel\n",
    "We rekenen het vermogen dat het zonnepaneel levert uit in verschillende stappen.\n",
    "#### 1. Intensiteit aan zonlicht dat op het paneel valt"
   ]
  },
  {
   "cell_type": "code",
   "execution_count": 74,
   "metadata": {},
   "outputs": [],
   "source": [
    "I_paneel = I_D * (np.cos(alpha)*np.sin(beta)*np.cos(Psi-theta) + np.sin(alpha)*np.cos(beta))\n",
    "# Correctie voor zon die het paneel niet meet bereikt:\n",
    "I_paneel[I_paneel<0] = 0"
   ]
  },
  {
   "cell_type": "markdown",
   "metadata": {},
   "source": [
    "#### 2. Vermogen dat de panelen leveren\n",
    "Uitgerekend in Watts, afhankelijk van het totale oppervlak aan panelen en de efficientie (eta) van de panelen."
   ]
  },
  {
   "cell_type": "code",
   "execution_count": 75,
   "metadata": {},
   "outputs": [],
   "source": [
    "P = aantal_panelen * oppervlakte_per_paneel * eta * I_paneel"
   ]
  },
  {
   "cell_type": "markdown",
   "metadata": {},
   "source": [
    "#### 3. Het vermogen tijdens het verloop van de dag in een grafiek"
   ]
  },
  {
   "cell_type": "code",
   "execution_count": 76,
   "metadata": {},
   "outputs": [
    {
     "data": {
      "image/png": "[encoded data removed]",
      "text/plain": [
       "<matplotlib.figure.Figure at 0x13a75408940>"
      ]
     },
     "metadata": {},
     "output_type": "display_data"
    }
   ],
   "source": [
    "plt.plot(LST, P)\n",
    "plt.xlim(0, 24)\n",
    "plt.ylim(0, 1.1*np.max(P))\n",
    "plt.xlabel('tijd (uren)')\n",
    "plt.ylabel('Vermogen (Watt)')\n",
    "plt.grid()"
   ]
  },
  {
   "cell_type": "markdown",
   "metadata": {},
   "source": [
    "#### 4. Dagopbrengst in kWh\n",
    "De bovenstaande grafiek kunnen we numeriek integreren om de opbrengst van de dag uit te rekenen."
   ]
  },
  {
   "cell_type": "code",
   "execution_count": 77,
   "metadata": {},
   "outputs": [
    {
     "name": "stdout",
     "output_type": "stream",
     "text": [
      "Geproduceerde energie: 12.26 kWh\n"
     ]
    }
   ],
   "source": [
    "# De integratiestap (tijdstap in uren):\n",
    "dLT = (LST[1]-LST[0])\n",
    "# Totale energie:\n",
    "E = np.sum(P*dLT/1000.0)\n",
    "print(\"Geproduceerde energie: %0.2f kWh\" % E)"
   ]
  },
  {
   "cell_type": "markdown",
   "metadata": {},
   "source": [
    "#### 5. Dagopbrengst inclusief diffuus licht\n",
    "Dit is een ruwe schatting, dat we 10% extra opbrengts hebben door licht dat niet direct op de panelen valt, maar via verstrooing in de atmosfeer"
   ]
  },
  {
   "cell_type": "code",
   "execution_count": 78,
   "metadata": {},
   "outputs": [
    {
     "name": "stdout",
     "output_type": "stream",
     "text": [
      "Totale geproduceerde energie: 13.48 kWh\n"
     ]
    }
   ],
   "source": [
    "E_G = 1.1 * E\n",
    "print(\"Totale geproduceerde energie: %0.2f kWh\" % E_G)"
   ]
  },
  {
   "cell_type": "code",
   "execution_count": null,
   "metadata": {},
   "outputs": [],
   "source": []
  }
 ],
 "metadata": {
  "kernelspec": {
   "display_name": "Python [default]",
   "language": "python",
   "name": "python3"
  },
  "language_info": {
   "codemirror_mode": {
    "name": "ipython",
    "version": 3
   },
   "file_extension": ".py",
   "mimetype": "text/x-python",
   "name": "python",
   "nbconvert_exporter": "python",
   "pygments_lexer": "ipython3",
   "version": "3.5.4"
  }
 },
 "nbformat": 4,
 "nbformat_minor": 2
}
